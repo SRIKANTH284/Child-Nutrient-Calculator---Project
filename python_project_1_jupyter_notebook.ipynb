{
 "cells": [
  {
   "cell_type": "code",
   "execution_count": 1,
   "id": "cfc269b8",
   "metadata": {
    "scrolled": true
   },
   "outputs": [
    {
     "name": "stdout",
     "output_type": "stream",
     "text": [
      "Enter name : baby\n",
      "Enter Age : 5\n",
      "Enter Gender :male\n",
      "Enter Height : 14\n",
      "Enter weight : 10\n"
     ]
    }
   ],
   "source": [
    "Name = str(input(\"Enter name : \"))\n",
    "Age = int(input(\"Enter Age : \"))\n",
    "Gender = str(input(\"Enter Gender :\"))\n",
    "Height = int(input(\"Enter Height : \"))\n",
    "Weight = int(input(\"Enter weight : \"))"
   ]
  },
  {
   "cell_type": "code",
   "execution_count": 2,
   "id": "f5802a71",
   "metadata": {},
   "outputs": [
    {
     "name": "stdout",
     "output_type": "stream",
     "text": [
      "Enter the Consumed Material :\n",
      "Milk :50\n",
      "Vegetables :30\n",
      "Rice :20\n",
      "Egg :50\n",
      "Lentils :45\n",
      "Meat :20\n",
      "361.95000000000005\n"
     ]
    }
   ],
   "source": [
    "print(\"Enter the Consumed Material :\")\n",
    "Milk = int(input(\"Milk :\"))\n",
    "Vegetables = int(input(\"Vegetables :\"))\n",
    "Rice = int(input(\"Rice :\"))\n",
    "Egg = int(input(\"Egg :\"))\n",
    "Lentils = int(input(\"Lentils :\"))\n",
    "Meat = int(input(\"Meat :\"))\n",
    "\n",
    "calMilk = (100/100)*Milk\n",
    "calVegetables = (85/100)*Vegetables\n",
    "calRice = (130/100)*Rice\n",
    "calEgg = (155/100)*Egg\n",
    "calLentils = (113/100)*Lentils\n",
    "calMeat = (143/100)*Meat\n",
    "\n",
    "totalConsumption = calMilk + calVegetables + calRice + calEgg + calRice + calEgg + calLentils + calMeat\n",
    "print(totalConsumption)"
   ]
  },
  {
   "cell_type": "code",
   "execution_count": 3,
   "id": "770de477",
   "metadata": {},
   "outputs": [
    {
     "name": "stdout",
     "output_type": "stream",
     "text": [
      "35.86734693877551\n"
     ]
    }
   ],
   "source": [
    "# Caluculate BMI\n",
    "bmi = Weight/(Height**2)*703\n",
    "print(bmi)"
   ]
  },
  {
   "cell_type": "code",
   "execution_count": 15,
   "id": "d0081585",
   "metadata": {},
   "outputs": [
    {
     "name": "stdout",
     "output_type": "stream",
     "text": [
      "Name:  baby\n",
      "Age:  5\n",
      "Gender:  male\n",
      "Height:  14\n",
      "Weight:  10\n",
      "Milk:  50\n",
      "Vegetables:  30\n",
      "Rice:  20\n",
      "Egg:  50\n",
      "Lentils:  45\n",
      "Meat:  20\n",
      "BMI of baby is  35.86734693877551  and  he is Obese\n",
      "The daily calorie cosumption of baby is  361.95000000000005  and  he is undernourished\n"
     ]
    }
   ],
   "source": [
    "print(\"Name: \",Name)\n",
    "print(\"Age: \",Age)\n",
    "print(\"Gender: \",Gender)\n",
    "print(\"Height: \",Height)\n",
    "print(\"Weight: \",Weight)\n",
    "\n",
    "\n",
    "\n",
    "\n",
    "print(\"Milk: \",Milk)\n",
    "print(\"Vegetables: \",Vegetables)\n",
    "print(\"Rice: \",Rice)\n",
    "print(\"Egg: \",Egg)\n",
    "print(\"Lentils: \",Lentils)\n",
    "print(\"Meat: \",Meat)\n",
    "\n",
    "\n",
    "if(Gender==\"male\"):\n",
    "    if(bmi<16):\n",
    "        print(\"BMI of \"+ Name +  \" is \",bmi,\" and  he is Severely Underweight\")\n",
    "    elif(bmi>=16 and bmi<18.5):\n",
    "        print(\"BMI of \"+ Name +  \" is \",bmi,\" and  he is Underweight\")\n",
    "    elif(bmi>=25 and bmi<30):\n",
    "        print(\"BMI of \"+ Name +  \" is \",bmi,\" and  he is Overweight\")\n",
    "    else:\n",
    "        print(\"BMI of \"+ Name +  \" is \",bmi,\" and  he is Obese\")\n",
    "        \n",
    "    if(Age>=0 and Age<2 and totalConsumption<800):\n",
    "        print(\"The daily calorie cosumption of \"+ Name + \" is \",totalConsumption, \" and  he is undernourished\")\n",
    "    elif(Age>=0 and Age<2 and totalConsumption>=800):\n",
    "        print(\"The daily calorie cosumption of \"+ Name + \" is \",totalConsumption, \" and  he is not undernourished\")\n",
    "    elif(Age>=2 and Age<4 and totalConsumption<1400):\n",
    "        print(\"The daily calorie cosumption of \"+ Name + \" is \",totalConsumption, \" and  he is undernourished\")\n",
    "    elif(Age>=2 and Age<4 and totalConsumption>=1400):\n",
    "        print(\"The daily calorie cosumption of \"+ Name + \" is \",totalConsumption, \" and  he is not undernourished\")\n",
    "    elif(Age>=4 and Age<8 and totalConsumption<1800):\n",
    "        print(\"The daily calorie cosumption of \"+ Name + \" is \",totalConsumption, \" and  he is undernourished\")\n",
    "    elif(Age>=4 and Age<8 and totalConsumption>=1800):\n",
    "        print(\"The daily calorie cosumption of \"+ Name + \" is \",totalConsumption, \" and  he is not undernourished\")\n",
    "                    "
   ]
  },
  {
   "cell_type": "markdown",
   "id": "97dd9fea",
   "metadata": {},
   "source": [
    "[Calorie Consumption](https://jupiter.org \"Calorie Consumption\")\n"
   ]
  },
  {
   "cell_type": "code",
   "execution_count": null,
   "id": "0bb6f5f1",
   "metadata": {},
   "outputs": [],
   "source": []
  }
 ],
 "metadata": {
  "kernelspec": {
   "display_name": "Python 3 (ipykernel)",
   "language": "python",
   "name": "python3"
  },
  "language_info": {
   "codemirror_mode": {
    "name": "ipython",
    "version": 3
   },
   "file_extension": ".py",
   "mimetype": "text/x-python",
   "name": "python",
   "nbconvert_exporter": "python",
   "pygments_lexer": "ipython3",
   "version": "3.9.7"
  }
 },
 "nbformat": 4,
 "nbformat_minor": 5
}
